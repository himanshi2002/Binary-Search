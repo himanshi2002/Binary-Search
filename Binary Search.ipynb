{
 "cells": [
  {
   "cell_type": "markdown",
   "metadata": {},
   "source": [
    "It's a divide and conquer algorithm\n",
    "arrange the list in ascending order\n",
    "in this we will first access the middle element of the list and from that we'll compare our input number\n",
    "if that number is less than the middle value then we'll access only the right side of the list\n",
    "else we'll access the left side of the list\n",
    "this will give result in less time"
   ]
  },
  {
   "cell_type": "code",
   "execution_count": 1,
   "metadata": {},
   "outputs": [],
   "source": [
    "# implementation of binary search algorithm!!\n",
    "# we will prove that binary search is faster then naive search\n",
    "# naive search: scan entire list and if it's equal to the target\n",
    "# if yes, return the index\n",
    "# if no, then return -1"
   ]
  },
  {
   "cell_type": "code",
   "execution_count": 2,
   "metadata": {},
   "outputs": [],
   "source": [
    "import random\n",
    "import time"
   ]
  },
  {
   "cell_type": "code",
   "execution_count": 3,
   "metadata": {},
   "outputs": [
    {
     "name": "stdout",
     "output_type": "stream",
     "text": [
      "3\n",
      "3\n"
     ]
    }
   ],
   "source": [
    "def naive_search(l,target):  # l--> list , target--->number which we want to find\n",
    "    \n",
    "    for i in range(len(l)):\n",
    "        \n",
    "        if l[i]==target:\n",
    "            \n",
    "            return i\n",
    "        \n",
    "    return -1\n",
    "\n",
    "# binary search uses divide and conquer!!\n",
    "\n",
    "def binary_search(l,target,low=None,high=None):\n",
    "    \n",
    "    if low is None:\n",
    "        \n",
    "        low=0\n",
    "        \n",
    "    if high is None:\n",
    "        \n",
    "        high=len(l)-1\n",
    "        \n",
    "    if high<low:  # to check if the number is not even in the list\n",
    "        \n",
    "        return -1\n",
    "    \n",
    "    # example l=[1,3,5,10,12]  # should return 3\n",
    "    \n",
    "    midpoint=(low+high)//2\n",
    "    \n",
    "    if l[midpoint]==target:\n",
    "        \n",
    "        return midpoint\n",
    "    \n",
    "    elif target< l[midpoint]:\n",
    "        \n",
    "        return binary_search(l,target,low,midpoint-1)\n",
    "    \n",
    "    else:\n",
    "        \n",
    "        return binary_search(l,target,midpoint+1,high)\n",
    "    \n",
    "    # another method\n",
    "    \n",
    "    # elif target< l[midpoint]:\n",
    "    \n",
    "        #return binary_search(l[:midpoint],target)\n",
    "        \n",
    "    #else:\n",
    "    \n",
    "        #return binary_search(l[midpoint+1:],target)\n",
    "        \n",
    "if __name__==\"__main__\":\n",
    "    \n",
    "    l=[1,3,5,10,12]\n",
    "    \n",
    "    target=10\n",
    "    \n",
    "    print(naive_search(l,target))\n",
    "    \n",
    "    print(binary_search(l,target))\n",
    "    \n",
    "    \n"
   ]
  },
  {
   "cell_type": "code",
   "execution_count": 15,
   "metadata": {},
   "outputs": [
    {
     "name": "stdout",
     "output_type": "stream",
     "text": [
      "Naive search time: 3.2298455238342285\n",
      "Binary search time: 0.04681849479675293\n"
     ]
    }
   ],
   "source": [
    "length=10000  # build a sorted list of length 10000\n",
    "\n",
    "sorted_list=set()\n",
    "\n",
    "while len(sorted_list)<length:\n",
    "    \n",
    "    sorted_list.add(random.randint(-3*length,3*length))  # this will create a list from -30000 to 30000\n",
    "                    \n",
    "sorted_list = sorted(list(sorted_list))  # sorted create a new list and make changes into that not in the original list\n",
    "\n",
    "start=time.time()\n",
    "\n",
    "for target in sorted_list:\n",
    "    \n",
    "    naive_search(sorted_list,target)\n",
    "    \n",
    "end=time.time()\n",
    "\n",
    "print(\"Naive search time:\",(end-start))\n",
    "                    \n",
    "start=time.time()\n",
    "\n",
    "for target in sorted_list:\n",
    "    \n",
    "    binary_search(sorted_list,target)\n",
    "    \n",
    "end=time.time()\n",
    "\n",
    "print(\"Binary search time:\",(end-start))\n"
   ]
  }
 ],
 "metadata": {
  "kernelspec": {
   "display_name": "Python 3",
   "language": "python",
   "name": "python3"
  },
  "language_info": {
   "codemirror_mode": {
    "name": "ipython",
    "version": 3
   },
   "file_extension": ".py",
   "mimetype": "text/x-python",
   "name": "python",
   "nbconvert_exporter": "python",
   "pygments_lexer": "ipython3",
   "version": "3.8.3"
  }
 },
 "nbformat": 4,
 "nbformat_minor": 4
}
